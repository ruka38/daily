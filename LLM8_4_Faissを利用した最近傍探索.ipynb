{
  "nbformat": 4,
  "nbformat_minor": 0,
  "metadata": {
    "colab": {
      "provenance": [],
      "gpuType": "V100",
      "authorship_tag": "ABX9TyPY4mkqgk1hF7u7a5ySNh+/",
      "include_colab_link": true
    },
    "kernelspec": {
      "name": "python3",
      "display_name": "Python 3"
    },
    "language_info": {
      "name": "python"
    },
    "accelerator": "GPU"
  },
  "cells": [
    {
      "cell_type": "markdown",
      "metadata": {
        "id": "view-in-github",
        "colab_type": "text"
      },
      "source": [
        "<a href=\"https://colab.research.google.com/github/ruka38/daily/blob/master/LLM8_4_Faiss%E3%82%92%E5%88%A9%E7%94%A8%E3%81%97%E3%81%9F%E6%9C%80%E8%BF%91%E5%82%8D%E6%8E%A2%E7%B4%A2.ipynb\" target=\"_parent\"><img src=\"https://colab.research.google.com/assets/colab-badge.svg\" alt=\"Open In Colab\"/></a>"
      ]
    },
    {
      "cell_type": "code",
      "execution_count": 3,
      "metadata": {
        "colab": {
          "base_uri": "https://localhost:8080/"
        },
        "id": "XK69aAo6x1jK",
        "outputId": "34890fe8-c609-4b8e-86e1-c78bf159f8cf"
      },
      "outputs": [
        {
          "output_type": "stream",
          "name": "stdout",
          "text": [
            "Requirement already satisfied: datasets in /usr/local/lib/python3.10/dist-packages (2.16.1)\n",
            "Requirement already satisfied: faiss-cpu in /usr/local/lib/python3.10/dist-packages (1.7.4)\n",
            "Requirement already satisfied: scipy in /usr/local/lib/python3.10/dist-packages (1.11.4)\n",
            "Requirement already satisfied: transformers[ja,torch] in /usr/local/lib/python3.10/dist-packages (4.35.2)\n",
            "Requirement already satisfied: filelock in /usr/local/lib/python3.10/dist-packages (from datasets) (3.13.1)\n",
            "Requirement already satisfied: numpy>=1.17 in /usr/local/lib/python3.10/dist-packages (from datasets) (1.23.5)\n",
            "Requirement already satisfied: pyarrow>=8.0.0 in /usr/local/lib/python3.10/dist-packages (from datasets) (10.0.1)\n",
            "Requirement already satisfied: pyarrow-hotfix in /usr/local/lib/python3.10/dist-packages (from datasets) (0.6)\n",
            "Requirement already satisfied: dill<0.3.8,>=0.3.0 in /usr/local/lib/python3.10/dist-packages (from datasets) (0.3.7)\n",
            "Requirement already satisfied: pandas in /usr/local/lib/python3.10/dist-packages (from datasets) (1.5.3)\n",
            "Requirement already satisfied: requests>=2.19.0 in /usr/local/lib/python3.10/dist-packages (from datasets) (2.31.0)\n",
            "Requirement already satisfied: tqdm>=4.62.1 in /usr/local/lib/python3.10/dist-packages (from datasets) (4.66.1)\n",
            "Requirement already satisfied: xxhash in /usr/local/lib/python3.10/dist-packages (from datasets) (3.4.1)\n",
            "Requirement already satisfied: multiprocess in /usr/local/lib/python3.10/dist-packages (from datasets) (0.70.15)\n",
            "Requirement already satisfied: fsspec[http]<=2023.10.0,>=2023.1.0 in /usr/local/lib/python3.10/dist-packages (from datasets) (2023.6.0)\n",
            "Requirement already satisfied: aiohttp in /usr/local/lib/python3.10/dist-packages (from datasets) (3.9.1)\n",
            "Requirement already satisfied: huggingface-hub>=0.19.4 in /usr/local/lib/python3.10/dist-packages (from datasets) (0.20.1)\n",
            "Requirement already satisfied: packaging in /usr/local/lib/python3.10/dist-packages (from datasets) (23.2)\n",
            "Requirement already satisfied: pyyaml>=5.1 in /usr/local/lib/python3.10/dist-packages (from datasets) (6.0.1)\n",
            "Requirement already satisfied: regex!=2019.12.17 in /usr/local/lib/python3.10/dist-packages (from transformers[ja,torch]) (2023.6.3)\n",
            "Requirement already satisfied: tokenizers<0.19,>=0.14 in /usr/local/lib/python3.10/dist-packages (from transformers[ja,torch]) (0.15.0)\n",
            "Requirement already satisfied: safetensors>=0.3.1 in /usr/local/lib/python3.10/dist-packages (from transformers[ja,torch]) (0.4.1)\n",
            "Requirement already satisfied: torch!=1.12.0,>=1.10 in /usr/local/lib/python3.10/dist-packages (from transformers[ja,torch]) (2.1.0+cu121)\n",
            "Requirement already satisfied: accelerate>=0.20.3 in /usr/local/lib/python3.10/dist-packages (from transformers[ja,torch]) (0.25.0)\n",
            "Requirement already satisfied: fugashi>=1.0 in /usr/local/lib/python3.10/dist-packages (from transformers[ja,torch]) (1.3.0)\n",
            "Requirement already satisfied: ipadic<2.0,>=1.0.0 in /usr/local/lib/python3.10/dist-packages (from transformers[ja,torch]) (1.0.0)\n",
            "Requirement already satisfied: unidic-lite>=1.0.7 in /usr/local/lib/python3.10/dist-packages (from transformers[ja,torch]) (1.0.8)\n",
            "Requirement already satisfied: unidic>=1.0.2 in /usr/local/lib/python3.10/dist-packages (from transformers[ja,torch]) (1.1.0)\n",
            "Requirement already satisfied: sudachipy>=0.6.6 in /usr/local/lib/python3.10/dist-packages (from transformers[ja,torch]) (0.6.8)\n",
            "Requirement already satisfied: sudachidict-core>=20220729 in /usr/local/lib/python3.10/dist-packages (from transformers[ja,torch]) (20230927)\n",
            "Requirement already satisfied: rhoknp<1.3.1,>=1.1.0 in /usr/local/lib/python3.10/dist-packages (from transformers[ja,torch]) (1.3.0)\n",
            "Requirement already satisfied: psutil in /usr/local/lib/python3.10/dist-packages (from accelerate>=0.20.3->transformers[ja,torch]) (5.9.5)\n",
            "Requirement already satisfied: attrs>=17.3.0 in /usr/local/lib/python3.10/dist-packages (from aiohttp->datasets) (23.1.0)\n",
            "Requirement already satisfied: multidict<7.0,>=4.5 in /usr/local/lib/python3.10/dist-packages (from aiohttp->datasets) (6.0.4)\n",
            "Requirement already satisfied: yarl<2.0,>=1.0 in /usr/local/lib/python3.10/dist-packages (from aiohttp->datasets) (1.9.4)\n",
            "Requirement already satisfied: frozenlist>=1.1.1 in /usr/local/lib/python3.10/dist-packages (from aiohttp->datasets) (1.4.1)\n",
            "Requirement already satisfied: aiosignal>=1.1.2 in /usr/local/lib/python3.10/dist-packages (from aiohttp->datasets) (1.3.1)\n",
            "Requirement already satisfied: async-timeout<5.0,>=4.0 in /usr/local/lib/python3.10/dist-packages (from aiohttp->datasets) (4.0.3)\n",
            "Requirement already satisfied: typing-extensions>=3.7.4.3 in /usr/local/lib/python3.10/dist-packages (from huggingface-hub>=0.19.4->datasets) (4.5.0)\n",
            "Requirement already satisfied: charset-normalizer<4,>=2 in /usr/local/lib/python3.10/dist-packages (from requests>=2.19.0->datasets) (3.3.2)\n",
            "Requirement already satisfied: idna<4,>=2.5 in /usr/local/lib/python3.10/dist-packages (from requests>=2.19.0->datasets) (3.6)\n",
            "Requirement already satisfied: urllib3<3,>=1.21.1 in /usr/local/lib/python3.10/dist-packages (from requests>=2.19.0->datasets) (2.0.7)\n",
            "Requirement already satisfied: certifi>=2017.4.17 in /usr/local/lib/python3.10/dist-packages (from requests>=2.19.0->datasets) (2023.11.17)\n",
            "Requirement already satisfied: sympy in /usr/local/lib/python3.10/dist-packages (from torch!=1.12.0,>=1.10->transformers[ja,torch]) (1.12)\n",
            "Requirement already satisfied: networkx in /usr/local/lib/python3.10/dist-packages (from torch!=1.12.0,>=1.10->transformers[ja,torch]) (3.2.1)\n",
            "Requirement already satisfied: jinja2 in /usr/local/lib/python3.10/dist-packages (from torch!=1.12.0,>=1.10->transformers[ja,torch]) (3.1.2)\n",
            "Requirement already satisfied: triton==2.1.0 in /usr/local/lib/python3.10/dist-packages (from torch!=1.12.0,>=1.10->transformers[ja,torch]) (2.1.0)\n",
            "Requirement already satisfied: wasabi<1.0.0,>=0.6.0 in /usr/local/lib/python3.10/dist-packages (from unidic>=1.0.2->transformers[ja,torch]) (0.10.1)\n",
            "Requirement already satisfied: plac<2.0.0,>=1.1.3 in /usr/local/lib/python3.10/dist-packages (from unidic>=1.0.2->transformers[ja,torch]) (1.4.2)\n",
            "Requirement already satisfied: python-dateutil>=2.8.1 in /usr/local/lib/python3.10/dist-packages (from pandas->datasets) (2.8.2)\n",
            "Requirement already satisfied: pytz>=2020.1 in /usr/local/lib/python3.10/dist-packages (from pandas->datasets) (2023.3.post1)\n",
            "Requirement already satisfied: six>=1.5 in /usr/local/lib/python3.10/dist-packages (from python-dateutil>=2.8.1->pandas->datasets) (1.16.0)\n",
            "Requirement already satisfied: MarkupSafe>=2.0 in /usr/local/lib/python3.10/dist-packages (from jinja2->torch!=1.12.0,>=1.10->transformers[ja,torch]) (2.1.3)\n",
            "Requirement already satisfied: mpmath>=0.19 in /usr/local/lib/python3.10/dist-packages (from sympy->torch!=1.12.0,>=1.10->transformers[ja,torch]) (1.3.0)\n"
          ]
        }
      ],
      "source": [
        "!pip install datasets faiss-cpu scipy transformers[ja,torch]"
      ]
    },
    {
      "cell_type": "code",
      "source": [
        "from datasets import load_dataset\n",
        "paragraph_dataset = load_dataset(\"llm-book/jawiki-paragraphs\", split=\"train\")"
      ],
      "metadata": {
        "id": "3jgTVyTMyEUT"
      },
      "execution_count": null,
      "outputs": []
    },
    {
      "cell_type": "code",
      "source": [
        "print(paragraph_dataset)"
      ],
      "metadata": {
        "id": "0rZWqshIyRyU"
      },
      "execution_count": null,
      "outputs": []
    },
    {
      "cell_type": "code",
      "source": [
        "from pprint import pprint\n",
        "pprint(paragraph_dataset[0])\n",
        "pprint(paragraph_dataset[1])"
      ],
      "metadata": {
        "id": "oAcE__VDyUO3"
      },
      "execution_count": null,
      "outputs": []
    },
    {
      "cell_type": "code",
      "source": [
        "# 計算量を抑えるために最初の段落のみを使用する\n",
        "paragraph_dataset = paragraph_dataset.filter(\n",
        "    lambda example: example[\"paragraph_index\"] == 0\n",
        ")"
      ],
      "metadata": {
        "id": "jeFt4FvByah9"
      },
      "execution_count": null,
      "outputs": []
    },
    {
      "cell_type": "code",
      "source": [
        "print(paragraph_dataset)"
      ],
      "metadata": {
        "id": "Vn_1nGgXyqFo"
      },
      "execution_count": null,
      "outputs": []
    },
    {
      "cell_type": "code",
      "source": [
        "pprint(paragraph_dataset[0])\n",
        "pprint(paragraph_dataset[1])"
      ],
      "metadata": {
        "id": "KPVUnGGByrSE"
      },
      "execution_count": null,
      "outputs": []
    },
    {
      "cell_type": "code",
      "source": [
        "# トークナイザとモデルの準備\n",
        "from transformers import AutoModel, AutoTokenizer\n",
        "model_name = \"llm-book/bert-base-japanese-v3-unsup-simcse-jawiki\"\n",
        "tokenizer = AutoTokenizer.from_pretrained(model_name)\n",
        "encoder = AutoModel.from_pretrained(model_name)"
      ],
      "metadata": {
        "id": "PbC8Nj4xyumX"
      },
      "execution_count": null,
      "outputs": []
    },
    {
      "cell_type": "code",
      "source": [
        "# 読み込んだエンコーダをGPUメモリに移動する\n",
        "device = \"cuda:0\"\n",
        "encoder = encoder.to(device)"
      ],
      "metadata": {
        "id": "vTo7FmLRzGnL"
      },
      "execution_count": null,
      "outputs": []
    },
    {
      "cell_type": "code",
      "source": [
        "# モデルの埋め込みによる計算\n",
        "import numpy as np\n",
        "import torch\n",
        "import torch.nn.functional as F\n",
        "\n",
        "def embed_texts(texts: list[str]) -> np.ndarray:\n",
        "  \"\"\"SimCSEのモデルを用いてテキストの埋め込みを計算する\"\"\"\n",
        "  # テキストにトークナイザを適用\n",
        "  tokenized_texts = tokenizer(texts,\n",
        "                              padding=True,\n",
        "                              truncation=True,\n",
        "                              max_length=128,\n",
        "                              return_tensors=\"pt\",\n",
        "                              ).to(device)\n",
        "\n",
        "  # トークナイズされたテキストをベクトルに変換\n",
        "  with torch.inference_mode():\n",
        "    with torch.cuda.amp.autocast():\n",
        "        encoded_texts = encoder(\n",
        "            **tokenized_texts\n",
        "        ).last_hidden_state[:,0]\n",
        "\n",
        "  # ベクトルをNumpyのarrayに変換\n",
        "  emb = encoded_texts.cpu().numpy().astype(np.float32)\n",
        "  # ベクトルのノルムが1になるように正規化\n",
        "  emb = emb / np.linalg.norm(emb, axis=1, keepdims=True)\n",
        "\n",
        "  return emb"
      ],
      "metadata": {
        "id": "uUiBxrjJzRzP"
      },
      "execution_count": null,
      "outputs": []
    },
    {
      "cell_type": "code",
      "source": [
        "# 段落データのすべての事例に埋め込みを付与する\n",
        "paragraph_dataset = paragraph_dataset.map(\n",
        "    lambda examples: {\n",
        "        \"embeddings\": list(embed_texts(examples[\"text\"]))\n",
        "        },\n",
        "    batched=True,\n",
        ")"
      ],
      "metadata": {
        "id": "m8-mntUhz1Eg"
      },
      "execution_count": null,
      "outputs": []
    },
    {
      "cell_type": "code",
      "source": [
        "print(paragraph_dataset)"
      ],
      "metadata": {
        "id": "yKQFHtq701Oq"
      },
      "execution_count": null,
      "outputs": []
    },
    {
      "cell_type": "code",
      "source": [
        "pprint(paragraph_dataset[0])"
      ],
      "metadata": {
        "id": "5PFCymR_1mRe"
      },
      "execution_count": null,
      "outputs": []
    },
    {
      "cell_type": "code",
      "source": [
        "# Faiss\n",
        "import faiss\n",
        "\n",
        "# ベクトルの次元数をエンコーダの設定値から取り出す\n",
        "emb_dim = encoder.config.hidden_size\n",
        "# ベクトルの次元数を指定してからのFaissインデックスを作成する\n",
        "index = faiss.IndexFlatIP(emb_dim)\n",
        "# 段落データのembeddingsフィールドのベクトルからFaissインデックスを構築する\n",
        "paragraph_dataset.add_faiss_index(\"embeddings\", custom_index=index)"
      ],
      "metadata": {
        "id": "QSj9LuOM1o0X"
      },
      "execution_count": null,
      "outputs": []
    },
    {
      "cell_type": "code",
      "source": [
        "query_text = \"日本語は、主に日本で話されている言語である\"\n",
        "\n",
        "# 最近傍探索を実行し、類似度上位10件の事例とスコアを取得する\n",
        "scores, retrieved_examples = paragraph_dataset.get_nearest_examples(\n",
        "    \"embeddings\",\n",
        "    embed_texts([query_text])[0],\n",
        "    k=10\n",
        ")\n",
        "\n",
        "# 取得した事例の内容をスコアとともに表示する\n",
        "titles = retrieved_examples[\"title\"]\n",
        "texts = retrieved_examples[\"text\"]\n",
        "for score, title, text in zip(scores, titles, texts):\n",
        "    print(f\"score: {score:.3f}, title: {title}, text: {text}\")"
      ],
      "metadata": {
        "id": "uuWc1IGv2G2r"
      },
      "execution_count": null,
      "outputs": []
    },
    {
      "cell_type": "code",
      "source": [],
      "metadata": {
        "id": "2BTd9C312p_O"
      },
      "execution_count": null,
      "outputs": []
    }
  ]
}